{
 "cells": [
  {
   "cell_type": "code",
   "execution_count": 4,
   "id": "4e6e59d4",
   "metadata": {},
   "outputs": [
    {
     "name": "stdout",
     "output_type": "stream",
     "text": [
      "Welcome to Assignment-1\n"
     ]
    }
   ],
   "source": [
    "print(\"Welcome to Assignment-1\")"
   ]
  },
  {
   "cell_type": "code",
   "execution_count": 1,
   "id": "800cc0d3",
   "metadata": {},
   "outputs": [
    {
     "name": "stdout",
     "output_type": "stream",
     "text": [
      "num1: 10\n",
      "num2: 30\n",
      "Add: 40\n"
     ]
    }
   ],
   "source": [
    "num1=10\n",
    "num2=30\n",
    "add=num1+num2\n",
    "print(\"num1:\", num1)\n",
    "print(\"num2:\", num2)\n",
    "print(\"Add:\", add)"
   ]
  },
  {
   "cell_type": "code",
   "execution_count": 5,
   "id": "db9a8582",
   "metadata": {},
   "outputs": [
    {
     "name": "stdout",
     "output_type": "stream",
     "text": [
      "num1 :10\n",
      "num2 :30\n",
      "Add : 40\n"
     ]
    }
   ],
   "source": [
    "num1=int(input(\"num1 :\"))\n",
    "num2=int(input(\"num2 :\"))\n",
    "print(\"Add :\", num1+num2)"
   ]
  },
  {
   "cell_type": "code",
   "execution_count": 3,
   "id": "c8d08755",
   "metadata": {},
   "outputs": [
    {
     "name": "stdout",
     "output_type": "stream",
     "text": [
      "Enter the BMI: 34\n",
      "very over weigh\n"
     ]
    }
   ],
   "source": [
    "BMI=int(input(\"Enter the BMI\"))\n",
    "if(BMI<18):\n",
    "    print(\"under weight\")\n",
    "elif(BMI<25):\n",
    "    print(\"Normal weight\")\n",
    "elif(BMI<30):\n",
    "    print(\"over weight\")\n",
    "    \n",
    "        "
   ]
  },
  {
   "cell_type": "code",
   "execution_count": null,
   "id": "c12bf1c4",
   "metadata": {},
   "outputs": [],
   "source": []
  }
 ],
 "metadata": {
  "kernelspec": {
   "display_name": "Python 3 (ipykernel)",
   "language": "python",
   "name": "python3"
  },
  "language_info": {
   "codemirror_mode": {
    "name": "ipython",
    "version": 3
   },
   "file_extension": ".py",
   "mimetype": "text/x-python",
   "name": "python",
   "nbconvert_exporter": "python",
   "pygments_lexer": "ipython3",
   "version": "3.11.5"
  }
 },
 "nbformat": 4,
 "nbformat_minor": 5
}
