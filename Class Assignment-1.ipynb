{
 "cells": [
  {
   "cell_type": "code",
   "execution_count": 3,
   "id": "6f6aec13",
   "metadata": {},
   "outputs": [],
   "source": [
    "# Create a Class and Function, then list out the items in the list\n",
    "class SubfiledInAI():\n",
    "    def subfileds():\n",
    "        print(\"Sub-fields in AI are:\")\n",
    "        list=['Machine Learning', 'Neural Networks', 'Vision', 'Robotics', 'Speech Processing', 'Natural Language Processing']\n",
    "        for temp in list:\n",
    "            print(temp)"
   ]
  },
  {
   "cell_type": "code",
   "execution_count": 4,
   "id": "7c7b94e1",
   "metadata": {},
   "outputs": [
    {
     "name": "stdout",
     "output_type": "stream",
     "text": [
      "Sub-fields in AI are:\n",
      "Machine Learning\n",
      "Neural Networks\n",
      "Vision\n",
      "Robotics\n",
      "Speech Processing\n",
      "Natural Language Processing\n"
     ]
    }
   ],
   "source": [
    "SubfiledInAI.subfileds()"
   ]
  },
  {
   "cell_type": "code",
   "execution_count": 5,
   "id": "95fb0e8b",
   "metadata": {},
   "outputs": [],
   "source": [
    "# create a function whether odd or Even number\n",
    "class ODDEVEN():\n",
    "    def oddEven():\n",
    "        num=int(input(\"Enter the number:\"))\n",
    "        if (num % 2)==0:\n",
    "            print(\"{0} is Even number\" .format(num))\n",
    "        else:\n",
    "            print(\"{0} is odd number\" .format(num))"
   ]
  },
  {
   "cell_type": "code",
   "execution_count": 6,
   "id": "585f294c",
   "metadata": {},
   "outputs": [
    {
     "name": "stdout",
     "output_type": "stream",
     "text": [
      "Enter the number:23\n",
      "23 is odd number\n"
     ]
    }
   ],
   "source": [
    "ODDEVEN.oddEven()"
   ]
  },
  {
   "cell_type": "code",
   "execution_count": 10,
   "id": "40fa197e",
   "metadata": {},
   "outputs": [],
   "source": [
    "# create a function to tell elegibility Marrage for male and female\n",
    "class ElegibleForMarrage():\n",
    "    def Elegible():\n",
    "        gender=input(\"Your Gender:\")\n",
    "        age=int(input(\"your Age:\"))\n",
    "        if (gender=='male'):\n",
    "            if(age >= 21):\n",
    "                print(\"ELIGIBLE\")\n",
    "            else:\n",
    "                print(\"Not Eligble\")\n",
    "\n",
    "        elif (gender=='female'):\n",
    "            if (age >=18):\n",
    "                print(\"Eligible\")\n",
    "            else:\n",
    "                print(\"Not Eligible\")\n",
    "\n",
    "        else:\n",
    "            print(\"Invalid Input date\")\n"
   ]
  },
  {
   "cell_type": "code",
   "execution_count": 11,
   "id": "9e4891d2",
   "metadata": {},
   "outputs": [
    {
     "name": "stdout",
     "output_type": "stream",
     "text": [
      "Your Gender:male\n",
      "your Age:20\n",
      "Not Eligble\n"
     ]
    }
   ],
   "source": [
    "ElegibleForMarrage.Elegible()"
   ]
  },
  {
   "cell_type": "code",
   "execution_count": 12,
   "id": "cac0a82d",
   "metadata": {},
   "outputs": [],
   "source": [
    "# Calculate the percentage of your 10th marks\n",
    "class FindPercent():\n",
    "    def percentage():\n",
    "        m1=int(input(\"Subject1= \"))\n",
    "        m2=int(input(\"Subject2= \"))\n",
    "        m3=int(input(\"Subject3= \"))\n",
    "        m4=int(input(\"Subject4= \"))\n",
    "        m5=int(input(\"Subject5= \"))\n",
    "        Total= m1+m2+m3+m4+m5\n",
    "        print(\"Total : \", Total)\n",
    "        percent = (Total/500) * 100\n",
    "        print(\"Percentage is: \", percent)\n",
    "\n"
   ]
  },
  {
   "cell_type": "code",
   "execution_count": 13,
   "id": "b350bcdb",
   "metadata": {},
   "outputs": [
    {
     "name": "stdout",
     "output_type": "stream",
     "text": [
      "Subject1= 54\n",
      "Subject2= 65\n",
      "Subject3= 54\n",
      "Subject4= 76\n",
      "Subject5= 98\n",
      "Total :  347\n",
      "Percentage is:  69.39999999999999\n"
     ]
    }
   ],
   "source": [
    "FindPercent.percentage()"
   ]
  },
  {
   "cell_type": "code",
   "execution_count": 14,
   "id": "17cda3e9",
   "metadata": {},
   "outputs": [],
   "source": [
    "# print the Triangle using Function\n",
    "class Triangle():\n",
    "    def triangle():\n",
    "        Height=int(input(\"Height:\"))\n",
    "        breadth=int(input(\"Breadth:\"))\n",
    "        print(\"Area formula: (Height*Breadth)/2\")\n",
    "        print(\"Area of Triangle: \",(Height*breadth)/2)\n",
    "        Height1=int(input(\"Height1:\"))\n",
    "        Height2=int(input(\"Height2:\"))\n",
    "        breadth=int(input(\"Breadth:\"))\n",
    "        print(\"Perimeter formula: Height1+Height2+Breadth\")\n",
    "        print(\"Perimeter of Triangle: \",Height1+Height2+breadth)"
   ]
  },
  {
   "cell_type": "code",
   "execution_count": 15,
   "id": "83599496",
   "metadata": {},
   "outputs": [
    {
     "name": "stdout",
     "output_type": "stream",
     "text": [
      "Height:32\n",
      "Breadth:34\n",
      "Area formula: (Height*Breadth)/2\n",
      "Area of Triangle:  544.0\n",
      "Height1:2\n",
      "Height2:2\n",
      "Breadth:4\n",
      "Perimeter formula: Height1+Height2+Breadth\n",
      "Perimeter of Triangle:  8\n"
     ]
    }
   ],
   "source": [
    "Triangle.triangle()"
   ]
  },
  {
   "cell_type": "code",
   "execution_count": null,
   "id": "090da4df",
   "metadata": {},
   "outputs": [],
   "source": []
  }
 ],
 "metadata": {
  "kernelspec": {
   "display_name": "Python 3 (ipykernel)",
   "language": "python",
   "name": "python3"
  },
  "language_info": {
   "codemirror_mode": {
    "name": "ipython",
    "version": 3
   },
   "file_extension": ".py",
   "mimetype": "text/x-python",
   "name": "python",
   "nbconvert_exporter": "python",
   "pygments_lexer": "ipython3",
   "version": "3.11.5"
  }
 },
 "nbformat": 4,
 "nbformat_minor": 5
}
