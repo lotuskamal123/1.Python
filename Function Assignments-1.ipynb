{
 "cells": [
  {
   "cell_type": "code",
   "execution_count": 1,
   "id": "204a0e54",
   "metadata": {},
   "outputs": [],
   "source": [
    "# List out the Item in the lists\n",
    "def subfileds():\n",
    "    print(\"Sub-fields in AI are:\")\n",
    "    list=['Machine Learning', 'Neural Networks', 'Vision', 'Robotics', 'Speech Processing', 'Natural Language Processing']\n",
    "    for temp in list:\n",
    "        print(temp)"
   ]
  },
  {
   "cell_type": "code",
   "execution_count": 2,
   "id": "2bb5aee5",
   "metadata": {},
   "outputs": [
    {
     "name": "stdout",
     "output_type": "stream",
     "text": [
      "Sub-fields in AI are:\n",
      "Machine Learning\n",
      "Neural Networks\n",
      "Vision\n",
      "Robotics\n",
      "Speech Processing\n",
      "Natural Language Processing\n"
     ]
    }
   ],
   "source": [
    "subfileds()"
   ]
  },
  {
   "cell_type": "code",
   "execution_count": 20,
   "id": "b8f2b0eb",
   "metadata": {},
   "outputs": [],
   "source": [
    "# create a function whether odd or Even number\n",
    "def oddEven():\n",
    "    num=int(input(\"Enter the number:\"))\n",
    "    if (num % 2)==0:\n",
    "        print(\"{0} is Even number\" .format(num))\n",
    "    else:\n",
    "        print(\"{0} is odd number\" .format(num))"
   ]
  },
  {
   "cell_type": "code",
   "execution_count": 21,
   "id": "03a52b03",
   "metadata": {},
   "outputs": [
    {
     "name": "stdout",
     "output_type": "stream",
     "text": [
      "Enter the number:4\n",
      "4 is Even number\n"
     ]
    }
   ],
   "source": [
    "oddEven()"
   ]
  },
  {
   "cell_type": "code",
   "execution_count": 28,
   "id": "4fcbe096",
   "metadata": {},
   "outputs": [],
   "source": [
    "# create a function to tell elegibility Marrage for male and female\n",
    "def Elegible():\n",
    "    gender=input(\"Your Gender:\")\n",
    "    age=int(input(\"your Age:\"))\n",
    "    if (gender=='male'):\n",
    "        if(age >= 21):\n",
    "            print(\"ELIGIBLE\")\n",
    "        else:\n",
    "            print(\"Not Eligble\")\n",
    "            \n",
    "    elif (gender=='female'):\n",
    "        if (age >=18):\n",
    "            print(\"Eligible\")\n",
    "        else:\n",
    "            print(\"Not Eligible\")\n",
    "            \n",
    "    else:\n",
    "        print(\"Invalid Input date\")\n"
   ]
  },
  {
   "cell_type": "code",
   "execution_count": 29,
   "id": "46faef21",
   "metadata": {},
   "outputs": [
    {
     "name": "stdout",
     "output_type": "stream",
     "text": [
      "Your Gender:male\n",
      "your Age:18\n",
      "Not Eligble\n"
     ]
    }
   ],
   "source": [
    "Elegible()"
   ]
  },
  {
   "cell_type": "code",
   "execution_count": 36,
   "id": "d6fd129e",
   "metadata": {},
   "outputs": [],
   "source": [
    "# Calculate the percentage of your 10th marks\n",
    "def percentage():\n",
    "    m1=int(input(\"Subject1= \"))\n",
    "    m2=int(input(\"Subject2= \"))\n",
    "    m3=int(input(\"Subject3= \"))\n",
    "    m4=int(input(\"Subject4= \"))\n",
    "    m5=int(input(\"Subject5= \"))\n",
    "    Total= m1+m2+m3+m4+m5\n",
    "    print(\"Total : \", Total)\n",
    "    percent = (Total/500) * 100\n",
    "    print(\"Percentage is: \", percent)\n",
    "    \n"
   ]
  },
  {
   "cell_type": "code",
   "execution_count": 37,
   "id": "de561077",
   "metadata": {},
   "outputs": [
    {
     "name": "stdout",
     "output_type": "stream",
     "text": [
      "Subject1= 45\n",
      "Subject2= 65\n",
      "Subject3= 75\n",
      "Subject4= 54\n",
      "Subject5= 78\n",
      "Total :  317\n",
      "Percentage is:  63.4\n"
     ]
    }
   ],
   "source": [
    "percentage()"
   ]
  },
  {
   "cell_type": "code",
   "execution_count": 38,
   "id": "e3ff27af",
   "metadata": {},
   "outputs": [],
   "source": [
    "# print the Triangle using Function\n",
    "def triangle():\n",
    "    Height=int(input(\"Height:\"))\n",
    "    breadth=int(input(\"Breadth:\"))\n",
    "    print(\"Area formula: (Height*Breadth)/2\")\n",
    "    print(\"Area of Triangle: \",(Height*breadth)/2)\n",
    "    Height1=int(input(\"Height1:\"))\n",
    "    Height2=int(input(\"Height2:\"))\n",
    "    breadth=int(input(\"Breadth:\"))\n",
    "    print(\"Perimeter formula: Height1+Height2+Breadth\")\n",
    "    print(\"Perimeter of Triangle: \",Height1+Height2+breadth)"
   ]
  },
  {
   "cell_type": "code",
   "execution_count": 39,
   "id": "bbdddce5",
   "metadata": {},
   "outputs": [
    {
     "name": "stdout",
     "output_type": "stream",
     "text": [
      "Height:3\n",
      "Breadth:4\n",
      "Area formula: (Height*Breadth)/2\n",
      "Area of Triangle:  6.0\n",
      "Height1:3\n",
      "Height2:4\n",
      "Breadth:45\n",
      "Perimeter formula: Height1+Height2+Breadth\n",
      "Perimeter of Triangle:  52\n"
     ]
    }
   ],
   "source": [
    "triangle()"
   ]
  },
  {
   "cell_type": "code",
   "execution_count": null,
   "id": "76d5cee9",
   "metadata": {},
   "outputs": [],
   "source": []
  }
 ],
 "metadata": {
  "kernelspec": {
   "display_name": "Python 3 (ipykernel)",
   "language": "python",
   "name": "python3"
  },
  "language_info": {
   "codemirror_mode": {
    "name": "ipython",
    "version": 3
   },
   "file_extension": ".py",
   "mimetype": "text/x-python",
   "name": "python",
   "nbconvert_exporter": "python",
   "pygments_lexer": "ipython3",
   "version": "3.11.5"
  }
 },
 "nbformat": 4,
 "nbformat_minor": 5
}
